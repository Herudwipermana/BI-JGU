{
  "nbformat": 4,
  "nbformat_minor": 0,
  "metadata": {
    "colab": {
      "name": "Sesi1.ipynb",
      "provenance": [],
      "authorship_tag": "ABX9TyNxkvaW/Glje8i1QLnDfgWW",
      "include_colab_link": true
    },
    "kernelspec": {
      "name": "python3",
      "display_name": "Python 3"
    }
  },
  "cells": [
    {
      "cell_type": "markdown",
      "metadata": {
        "id": "view-in-github",
        "colab_type": "text"
      },
      "source": [
        "<a href=\"https://colab.research.google.com/github/Herudwipermana/BI-JGU/blob/main/Sesi1.ipynb\" target=\"_parent\"><img src=\"https://colab.research.google.com/assets/colab-badge.svg\" alt=\"Open In Colab\"/></a>"
      ]
    },
    {
      "cell_type": "code",
      "metadata": {
        "id": "OVpGU85LB4bs",
        "outputId": "57aee6a1-c3cd-4d7e-f243-6042b0b4f431",
        "colab": {
          "base_uri": "https://localhost:8080/",
          "height": 34
        }
      },
      "source": [
        "print (\"hallo apa kabar\",\"hari ini\",\"???\")\n"
      ],
      "execution_count": 1,
      "outputs": [
        {
          "output_type": "stream",
          "text": [
            "hallo apa kabar hari ini ???\n"
          ],
          "name": "stdout"
        }
      ]
    },
    {
      "cell_type": "code",
      "metadata": {
        "id": "ied9GEXuE26-",
        "outputId": "bce74ed2-85a4-43ec-a47b-840c9d54fec6",
        "colab": {
          "base_uri": "https://localhost:8080/",
          "height": 34
        }
      },
      "source": [
        "print (\"No kw-\",1)"
      ],
      "execution_count": 6,
      "outputs": [
        {
          "output_type": "stream",
          "text": [
            "No kw- 1\n"
          ],
          "name": "stdout"
        }
      ]
    },
    {
      "cell_type": "code",
      "metadata": {
        "id": "P7lSusy0FDR3",
        "outputId": "058f91a4-17b7-4266-8c5e-f8cfca0ae5d2",
        "colab": {
          "base_uri": "https://localhost:8080/",
          "height": 51
        }
      },
      "source": [
        "tipe1 = 0\n",
        "tipe2 = 1.2\n",
        "tipe3 = \"siapa\"\n",
        "print (tipe3)\n",
        "type(tipe2)"
      ],
      "execution_count": 7,
      "outputs": [
        {
          "output_type": "stream",
          "text": [
            "siapa\n"
          ],
          "name": "stdout"
        },
        {
          "output_type": "execute_result",
          "data": {
            "text/plain": [
              "float"
            ]
          },
          "metadata": {
            "tags": []
          },
          "execution_count": 7
        }
      ]
    },
    {
      "cell_type": "code",
      "metadata": {
        "id": "KsNEH7I7FgHW",
        "outputId": "e060920b-a7c2-4f58-a8c1-f5d60fbb8645",
        "colab": {
          "base_uri": "https://localhost:8080/",
          "height": 34
        }
      },
      "source": [
        "x = 3\n",
        "y = 2\n",
        "z = x * y\n",
        "print (z)"
      ],
      "execution_count": 8,
      "outputs": [
        {
          "output_type": "stream",
          "text": [
            "6\n"
          ],
          "name": "stdout"
        }
      ]
    },
    {
      "cell_type": "code",
      "metadata": {
        "id": "bCP2VzaXFvse",
        "outputId": "e00e4877-2ffb-4629-82d4-09db65d08dcc",
        "colab": {
          "base_uri": "https://localhost:8080/",
          "height": 34
        }
      },
      "source": [
        "a = 1\n",
        "b = a + 1\n",
        "b = 2\n",
        "c = a + b\n",
        "type(c)\n",
        "c = str(c)\n",
        "print(c)"
      ],
      "execution_count": 12,
      "outputs": [
        {
          "output_type": "stream",
          "text": [
            "3\n"
          ],
          "name": "stdout"
        }
      ]
    },
    {
      "cell_type": "code",
      "metadata": {
        "id": "4hj64716GUhm",
        "outputId": "9657e815-0f18-4708-d0ac-7cfc8681d9c9",
        "colab": {
          "base_uri": "https://localhost:8080/",
          "height": 34
        }
      },
      "source": [
        "b = str(a)\n",
        "print(b*5)"
      ],
      "execution_count": 14,
      "outputs": [
        {
          "output_type": "stream",
          "text": [
            "11111\n"
          ],
          "name": "stdout"
        }
      ]
    },
    {
      "cell_type": "code",
      "metadata": {
        "id": "6by4SwGqGmhL",
        "outputId": "1655b41d-4ee2-47a8-d896-7dd557e91244",
        "colab": {
          "base_uri": "https://localhost:8080/",
          "height": 34
        }
      },
      "source": [
        "b = \"hai\"\n",
        "print(b*5)"
      ],
      "execution_count": 15,
      "outputs": [
        {
          "output_type": "stream",
          "text": [
            "haihaihaihaihai\n"
          ],
          "name": "stdout"
        }
      ]
    },
    {
      "cell_type": "code",
      "metadata": {
        "id": "fRti9fi5G5Dg"
      },
      "source": [
        "a = 2\n",
        "b = 3\n",
        "print(\"a adalah\",a,\"dan\",\"b adalah\",b)"
      ],
      "execution_count": null,
      "outputs": []
    },
    {
      "cell_type": "code",
      "metadata": {
        "id": "1UqdVoxEHbJu"
      },
      "source": [
        "# tambah => +\n",
        "# kurang => -\n",
        "# kali => *\n",
        "# bagi => /\n",
        "# pangkat => **\n",
        "print(\"hai\"*(2**3))\n"
      ],
      "execution_count": null,
      "outputs": []
    },
    {
      "cell_type": "code",
      "metadata": {
        "id": "4lrkOLiSIG9Q"
      },
      "source": [
        "print(\"heru dwi permana\")\n",
        "a = input()\n",
        "print(\"hallo\",a,\"senang bertemu dengan anda\")"
      ],
      "execution_count": null,
      "outputs": []
    },
    {
      "cell_type": "code",
      "metadata": {
        "id": "O4Ceghl-HNUE"
      },
      "source": [
        ""
      ],
      "execution_count": null,
      "outputs": []
    },
    {
      "cell_type": "code",
      "metadata": {
        "id": "8dkZfYKWDXd7"
      },
      "source": [
        "\n",
        "\n"
      ],
      "execution_count": null,
      "outputs": []
    }
  ]
}